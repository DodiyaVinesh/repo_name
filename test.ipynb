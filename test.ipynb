
{
  "nbformat": 4,
  "nbformat_minor": 0,
  "metadata": {
    "colab": {
      "name": "Division F.ipynb",
      "provenance": [],
      "collapsed_sections": []
    },
    "kernelspec": {
      "name": "python3",
      "display_name": "Python 3"
    }
  },
  "cells": [
    {
      "cell_type": "markdown",
      "metadata": {
        "id": "osyGhF7km1M8",
        "colab_type": "text"
      },
      "source": [
        "This is a demo ipynb notebook for division F."
      ]
    },
    {
      "cell_type": "markdown",
      "metadata": {
        "id": "AnNv0WrS0Fn_",
        "colab_type": "text"
      },
      "source": [
        "# This is a demo for Google Colaboratory."
      ]
    },
    {
      "cell_type": "markdown",
      "metadata": {
        "id": "Pv6aXZ8ZvlPq",
        "colab_type": "text"
      },
      "source": [
        "dhaval"
      ]
    },
    {
      "cell_type": "code",
      "metadata": {
        "id": "IMGI1xjgvpoR",
        "colab_type": "code",
        "colab": {
          "base_uri": "https://localhost:8080/",
          "height": 34
        },
        "outputId": "437eba63-27a7-43de-f455-9920bb708f13"
      },
      "source": [
        "print(\"Dhaval Dodiya\")"
      ],
      "execution_count": null,
      "outputs": [
        {
          "output_type": "stream",
          "text": [
            "Dhaval Dodiya\n"
          ],
          "name": "stdout"
        }
      ]
    },
    {
      "cell_type": "markdown",
      "metadata": {
        "id": "8cmCxv3cvqBj",
        "colab_type": "text"
      },
      "source": [
        "jenish"
      ]
    },
    {
      "cell_type": "markdown",
      "metadata": {
        "id": "YPGw2vr30nOU",
        "colab_type": "text"
      },
      "source": [
        "JENISH DUDHAT V."
      ]
    },
    {
      "cell_type": "code",
      "metadata": {
        "id": "pJ69cYXcvrpD",
        "colab_type": "code",
        "colab": {
          "base_uri": "https://localhost:8080/",
          "height": 34
        },
        "outputId": "829f4a77-afac-4f66-8844-64472c6a79fb"
      },
      "source": [
        "print('jenish dudhat')"
      ],
      "execution_count": null,
      "outputs": [
        {
          "output_type": "stream",
          "text": [
            "jenish dudhat\n"
          ],
          "name": "stdout"
        }
      ]
    },
    {
      "cell_type": "markdown",
      "metadata": {
        "id": "eSFQZPSNvr1g",
        "colab_type": "text"
      },
      "source": [
        "kisankumar"
      ]
    },
    {
      "cell_type": "code",
      "metadata": {
        "id": "6Nend723vtme",
        "colab_type": "code",
        "colab": {
          "base_uri": "https://localhost:8080/",
          "height": 34
        },
        "outputId": "dfff6ee3-2587-4183-aeb6-eb1bf8fc8d33"
      },
      "source": [
        "print(\"Kishan Vadodariya\")"
      ],
      "execution_count": null,
      "outputs": [
        {
          "output_type": "stream",
          "text": [
            "Kishan Vadodariya\n"
          ],
          "name": "stdout"
        }
      ]
    },
    {
      "cell_type": "markdown",
      "metadata": {
        "id": "OHZvX8MrvtxO",
        "colab_type": "text"
      },
      "source": [
        "payal"
      ]
    },
    {
      "cell_type": "code",
      "metadata": {
        "id": "B0EjDo4mvvI3",
        "colab_type": "code",
        "colab": {}
      },
      "source": [
        ""
      ],
      "execution_count": null,
      "outputs": []
    },
    {
      "cell_type": "markdown",
      "metadata": {
        "id": "rBvNomvRvvbE",
        "colab_type": "text"
      },
      "source": [
        "vijay"
      ]
    },
    {
      "cell_type": "code",
      "metadata": {
        "id": "lKOw3Yuxvwpz",
        "colab_type": "code",
        "colab": {}
      },
      "source": [
        ""
      ],
      "execution_count": null,
      "outputs": []
    },
    {
      "cell_type": "markdown",
      "metadata": {
        "id": "yYd9fuTZwyvW",
        "colab_type": "text"
      },
      "source": [
        ""
      ]
    },
    {
      "cell_type": "code",
      "metadata": {
        "id": "xEvax4wyyJxx",
        "colab_type": "code",
        "colab": {}
      },
      "source": [
        ""
      ],
      "execution_count": null,
      "outputs": []
    },
    {
      "cell_type": "markdown",
      "metadata": {
        "id": "C60JzpZ-vw05",
        "colab_type": "text"
      },
      "source": [
        "vinesh"
      ]
    },
    {
      "cell_type": "code",
      "metadata": {
        "id": "yts5YR_XvyIJ",
        "colab_type": "code",
        "colab": {
          "base_uri": "https://localhost:8080/",
          "height": 34
        },
        "outputId": "4d0f79bf-8580-4382-cd3c-fcc7693980f5"
      },
      "source": [
        "print(\"180200107027-Dodiya vinesh\")"
      ],
      "execution_count": null,
      "outputs": [
        {
          "output_type": "stream",
          "text": [
            "180200107027-Dodiya vinesh\n"
          ],
          "name": "stdout"
        }
      ]
    },
    {
      "cell_type": "markdown",
      "metadata": {
        "id": "lWPWM1zH2lUH",
        "colab_type": "text"
      },
      "source": [
        "section header example"
      ]
    },
    {
      "cell_type": "markdown",
      "metadata": {
        "id": "0oBf5gNEvzGV",
        "colab_type": "text"
      },
      "source": [
        "viren"
      ]
    },
    {
      "cell_type": "code",
      "metadata": {
        "id": "bSIMR1Wyvz9n",
        "colab_type": "code",
        "colab": {
          "base_uri": "https://localhost:8080/",
          "height": 34
        },
        "outputId": "7abe4ef8-bb63-483b-ed17-b53fa79facef"
      },
      "source": [
        "print(\"viren ujjainiya\") "
      ],
      "execution_count": null,
      "outputs": [
        {
          "output_type": "stream",
          "text": [
            "viren ujjainiya\n"
          ],
          "name": "stdout"
        }
      ]
    },
    {
      "cell_type": "markdown",
      "metadata": {
        "id": "xFH1R_Fi4Q0E",
        "colab_type": "text"
      },
      "source": [
        "# New Section"
      ]
    },
    {
      "cell_type": "markdown",
      "metadata": {
        "id": "UOaI0RThv0H6",
        "colab_type": "text"
      },
      "source": [
        "vishal bind"
      ]
    },
    {
      "cell_type": "code",
      "metadata": {
        "id": "q-wGshtNv1gn",
        "colab_type": "code",
        "colab": {}
      },
      "source": [
        ""
      ],
      "execution_count": null,
      "outputs": []
    },
    {
      "cell_type": "markdown",
      "metadata": {
        "id": "ZtGATWDoy16y",
        "colab_type": "text"
      },
      "source": [
        ""
      ]
    },
    {
      "cell_type": "markdown",
      "metadata": {
        "id": "jyJdE5FEzrbH",
        "colab_type": "text"
      },
      "source": [
        ""
      ]
    },
    {
      "cell_type": "markdown",
      "metadata": {
        "id": "nm2LAc5v3mIk",
        "colab_type": "text"
      },
      "source": [
        "# New Section"
      ]
    },
    {
      "cell_type": "markdown",
      "metadata": {
        "id": "6gY9Nydiv10l",
        "colab_type": "text"
      },
      "source": [
        "Vishal "
      ]
    },
    {
      "cell_type": "code",
      "metadata": {
        "id": "l9ypDdFfv6Vm",
        "colab_type": "code",
        "colab": {
          "base_uri": "https://localhost:8080/",
          "height": 34
        },
        "outputId": "0783f585-a671-42e9-c793-d4655db65296"
      },
      "source": [
        "print(\"Vishal Chauhan 180200107020\") "
      ],
      "execution_count": null,
      "outputs": [
        {
          "output_type": "stream",
          "text": [
            "Vishal Chauhan 180200107020\n"
          ],
          "name": "stdout"
        }
      ]
    },
    {
      "cell_type": "code",
      "metadata": {
        "id": "IexrozScwV6v",
        "colab_type": "code",
        "colab": {
          "base_uri": "https://localhost:8080/",
          "height": 34
        },
        "outputId": "336ad926-7cdc-4929-cff3-dc9d330041c1"
      },
      "source": [
        "print(\"Yash pandya\")"
      ],
      "execution_count": null,
      "outputs": [
        {
          "output_type": "stream",
          "text": [
            "Yash pandya\n"
          ],
          "name": "stdout"
        }
      ]
    },
    {
      "cell_type": "markdown",
      "metadata": {
        "id": "a4rxIQ4r113Y",
        "colab_type": "text"
      },
      "source": [
        "# Yash's new section\n"
      ]
    },
    {
      "cell_type": "markdown",
      "metadata": {
        "id": "rZQvENCE00Ks",
        "colab_type": "text"
      },
      "source": [
        "Yash's New section.\n"
      ]
    }
  ]
}
